{
 "metadata": {
  "name": "Magnetico"
 },
 "nbformat": 3,
 "nbformat_minor": 0,
 "worksheets": [
  {
   "cells": [
    {
     "cell_type": "code",
     "collapsed": false,
     "input": [
      "%pylab inline\n"
     ],
     "language": "python",
     "metadata": {},
     "outputs": [
      {
       "output_type": "stream",
       "stream": "stdout",
       "text": [
        "\n",
        "Welcome to pylab, a matplotlib-based Python environment [backend: module://IPython.zmq.pylab.backend_inline].\n",
        "For more information, type 'help(pylab)'.\n"
       ]
      }
     ],
     "prompt_number": 65
    },
    {
     "cell_type": "code",
     "collapsed": false,
     "input": [
      "g=9.8#m/s^2\n",
      "m1=139.8/1000#grs\n",
      "m2=1.6/1000#grs\n",
      "c=0.00137#tesla/ampere\n",
      "R=2.88#cm\n",
      "I=2*m1*(R**2)/50000\n",
      "print 2*m1*(R**2)/50000,I"
     ],
     "language": "python",
     "metadata": {},
     "outputs": [
      {
       "output_type": "stream",
       "stream": "stdout",
       "text": [
        "4.63822848e-05 4.63822848e-05\n"
       ]
      }
     ],
     "prompt_number": 66
    },
    {
     "cell_type": "heading",
     "level": 1,
     "metadata": {},
     "source": [
      "Funciones"
     ]
    },
    {
     "cell_type": "code",
     "collapsed": false,
     "input": [
      "def f1(A,l):\n",
      "    a=m2*g*l/(c*A)\n",
      "    return a"
     ],
     "language": "python",
     "metadata": {},
     "outputs": [],
     "prompt_number": 67
    },
    {
     "cell_type": "code",
     "collapsed": false,
     "input": [
      "def f2(T,A):\n",
      "    a=4*pi*pi*I/(c*A*(T**2))\n",
      "    return a"
     ],
     "language": "python",
     "metadata": {},
     "outputs": [],
     "prompt_number": 68
    },
    {
     "cell_type": "heading",
     "level": 1,
     "metadata": {},
     "source": [
      "estatico----------------------------------------------------------------------------------------------------------------------------"
     ]
    },
    {
     "cell_type": "heading",
     "level": 2,
     "metadata": {},
     "source": [
      "             matrices"
     ]
    },
    {
     "cell_type": "code",
     "collapsed": false,
     "input": [
      "A=[3.2,2.85,2.7,2.6,2.4,2.1,3.4,2.9,2.7,2.1]#amperios\n",
      "L=[6.35 , 4.75 , 4.15 , 3.75 , 2.58 , 1.85 , 6.98 , 5.035 , 4.34 , 2.065]#cm\n",
      "M1=zeros(len(A),dtype=\"float\")\n",
      "print len(A),len(L),len(M1)"
     ],
     "language": "python",
     "metadata": {},
     "outputs": [
      {
       "output_type": "stream",
       "stream": "stdout",
       "text": [
        "10 10 10\n"
       ]
      }
     ],
     "prompt_number": 69
    },
    {
     "cell_type": "heading",
     "level": 3,
     "metadata": {},
     "source": [
      "L en metros"
     ]
    },
    {
     "cell_type": "code",
     "collapsed": false,
     "input": [
      "#L a metros\n",
      "print L\n",
      "for i in range(len(L)):\n",
      "    L[i]=(L[i]+R)/100\n",
      "print L    "
     ],
     "language": "python",
     "metadata": {},
     "outputs": [
      {
       "output_type": "stream",
       "stream": "stdout",
       "text": [
        "[6.35, 4.75, 4.15, 3.75, 2.58, 1.85, 6.98, 5.035, 4.34, 2.065]\n",
        "[0.09230000000000001, 0.07629999999999999, 0.0703, 0.0663, 0.0546, 0.0473, 0.0986, 0.07915, 0.0722, 0.04945]\n"
       ]
      }
     ],
     "prompt_number": 70
    },
    {
     "cell_type": "heading",
     "level": 3,
     "metadata": {},
     "source": [
      "hallando $\\mu$"
     ]
    },
    {
     "cell_type": "code",
     "collapsed": false,
     "input": [
      "for i in range(len(M1)):\n",
      "    M1[i]=f1(A[i],L[i])\n",
      "    \n",
      "print mean(M1), \"primera aproximacion de $\\mu$\"    \n",
      "\n"
     ],
     "language": "python",
     "metadata": {},
     "outputs": [
      {
       "output_type": "stream",
       "stream": "stdout",
       "text": [
        "0.296441261115 primera aproximacion de $\\mu$\n"
       ]
      }
     ],
     "prompt_number": 71
    },
    {
     "cell_type": "code",
     "collapsed": false,
     "input": [
      "#error\n",
      "error=0\n",
      "for i in (M1):\n",
      "    error=(mean(M1)-i)**2\n",
      "error=(error/len(M1))**0.5\n",
      "print error"
     ],
     "language": "python",
     "metadata": {},
     "outputs": [
      {
       "output_type": "stream",
       "stream": "stdout",
       "text": [
        "0.00851688187885\n"
       ]
      }
     ],
     "prompt_number": 72
    },
    {
     "cell_type": "heading",
     "level": 3,
     "metadata": {},
     "source": [
      "primera aproximacion $\\mu$=0.29644 error=0.0085"
     ]
    },
    {
     "cell_type": "code",
     "collapsed": false,
     "input": [
      "print M1 \n",
      "L_A=zeros(len(A),dtype=\"float\")\n",
      "for i in range(len(A)):\n",
      "    L_A[i]=L[i]/A[i]"
     ],
     "language": "python",
     "metadata": {},
     "outputs": [
      {
       "output_type": "stream",
       "stream": "stdout",
       "text": [
        "[ 0.33012409  0.30641158  0.29800054  0.29185401  0.26037956  0.25779075\n",
        "  0.33191241  0.31237654  0.30605461  0.26950852]\n"
       ]
      }
     ],
     "prompt_number": 73
    },
    {
     "cell_type": "code",
     "collapsed": false,
     "input": [],
     "language": "python",
     "metadata": {},
     "outputs": [],
     "prompt_number": 73
    },
    {
     "cell_type": "code",
     "collapsed": false,
     "input": [
      "plot(L_A,M1, \"ro\")\n",
      "xlabel(\"L/A\",size=15)\n",
      "ylabel(\"$ \\mu $\",rotation=\"horizontal\",size=20)"
     ],
     "language": "python",
     "metadata": {},
     "outputs": [
      {
       "output_type": "pyout",
       "prompt_number": 74,
       "text": [
        "<matplotlib.text.Text at 0x6273890>"
       ]
      },
      {
       "output_type": "display_data",
       "png": "[encoded data removed]"
      }
     ],
     "prompt_number": 74
    },
    {
     "cell_type": "code",
     "collapsed": false,
     "input": [
      "from scipy import stats\n"
     ],
     "language": "python",
     "metadata": {},
     "outputs": [],
     "prompt_number": 75
    },
    {
     "cell_type": "code",
     "collapsed": false,
     "input": [
      "mu=stats.linregress(A,L)[0]*g*m2/c\n",
      "errorpendiente= stats.linregress(A,L)[-1]\n",
      "print mu,errorpendiente\n",
      "ermu=errorpendiente/stats.linregress(A,L)[0]\n",
      "print ermu"
     ],
     "language": "python",
     "metadata": {},
     "outputs": [
      {
       "output_type": "stream",
       "stream": "stdout",
       "text": [
        "0.458004236254 0.00152063765171\n",
        "0.0379998371856\n"
       ]
      }
     ],
     "prompt_number": 76
    },
    {
     "cell_type": "heading",
     "level": 2,
     "metadata": {},
     "source": [
      "$\\mu$ = 0.4580 hallado de la pendiente de la grafica A vs L"
     ]
    },
    {
     "cell_type": "code",
     "collapsed": false,
     "input": [
      "L_=zeros(len(A),dtype=\"float\")\n",
      "d=stats.linregress(A,L)[0]\n",
      "d0=stats.linregress(A,L)[1]\n",
      "for i in range(len(A)):\n",
      "    \n",
      "    L_[i]=A[i]*d+d0"
     ],
     "language": "python",
     "metadata": {},
     "outputs": [],
     "prompt_number": 77
    },
    {
     "cell_type": "code",
     "collapsed": false,
     "input": [
      "plot(A,L,\"bo\",label=\"$L=A \\\\frac{\\mu c }{mg}$\")\n",
      "xlabel(\"$ A $\",size=15)\n",
      "ylabel(\"$ L $\",size=15,rotation=\"horizontal\")\n",
      "plot(A,L_,\"r\")\n",
      "err_x=c*0.05\n",
      "err_y=0.005\n",
      "errorbar(A, L, xerr=err_x, yerr=err_y, fmt='o')\n",
      "legend()\n",
      "mean(M1)\n",
      "title(\"$\\mu$=\"+str(mu)+\"   $d\\mu$=\"+str(ermu),size=15)\n",
      "savefig(\"uno.png\")"
     ],
     "language": "python",
     "metadata": {},
     "outputs": [
      {
       "output_type": "display_data",
       "png": "[encoded data removed]"
      }
     ],
     "prompt_number": 78
    },
    {
     "cell_type": "heading",
     "level": 1,
     "metadata": {},
     "source": [
      "oscilaciones -------------------------------------------------------------------------------------------------------------------------------------"
     ]
    },
    {
     "cell_type": "code",
     "collapsed": false,
     "input": [
      "#a=4*pi*pi*I/(c*A*T**2)\n",
      "\n",
      "A=[0.5,1.0,1.5,2.0,2.5,3.0,3.5,1.3,3.7]\n",
      "T=[43.86 , 32.86 , 26.69 , 23.16 , 21.05 , 18.99 , 18.51 , 29.5 ,17.36]\n",
      "M2=zeros(len(A),dtype=\"float\")"
     ],
     "language": "python",
     "metadata": {},
     "outputs": [],
     "prompt_number": 25
    },
    {
     "cell_type": "code",
     "collapsed": false,
     "input": [
      "for i in range(len(T)):\n",
      "    T[i]=T[i]/20"
     ],
     "language": "python",
     "metadata": {},
     "outputs": [],
     "prompt_number": 26
    },
    {
     "cell_type": "code",
     "collapsed": false,
     "input": [
      "print T,\"\\n\",pi,\"\\n\",I,\"\\n\",A\n"
     ],
     "language": "python",
     "metadata": {},
     "outputs": [
      {
       "output_type": "stream",
       "stream": "stdout",
       "text": [
        "[2.193, 1.643, 1.3345, 1.158, 1.0525, 0.9494999999999999, 0.9255000000000001, 1.475, 0.868] \n",
        "3.14159265359 \n",
        "4.63822848e-05 \n",
        "[0.5, 1.0, 1.5, 2.0, 2.5, 3.0, 3.5, 1.3, 3.7]\n"
       ]
      }
     ],
     "prompt_number": 27
    },
    {
     "cell_type": "code",
     "collapsed": false,
     "input": [
      "for i in range(len(A)):\n",
      "    M2[i]=f2(T[i],A[i])\n",
      "    \n",
      "    print f2(T[i],A[i])\n",
      "    \n",
      "#se define 1/A*T**2\n",
      "uno_AT=zeros(len(A),dtype=\"float\")  \n",
      "\n",
      "for i in range(len(A)):\n",
      "    uno_AT[i]=1/(A[i]*T[i]**2)\n",
      "print \"promedio de mu\",mean(M2)  \n",
      "\n",
      "error=0\n",
      "for i in M2:\n",
      "    error=((mean(M2)-i)**2)/len(M2)\n",
      "error=error**0.5\n",
      "print error"
     ],
     "language": "python",
     "metadata": {},
     "outputs": [
      {
       "output_type": "stream",
       "stream": "stdout",
       "text": [
        "0.555832632302\n",
        "0.4951265112\n",
        "0.500337313705\n",
        "0.498361166121\n",
        "0.482621972309\n",
        "0.494174253564\n",
        "0.445831158361\n",
        "0.472567570073\n",
        "0.479457518602\n",
        "promedio de mu 0.491590010693\n",
        "0.00404416403032\n"
       ]
      }
     ],
     "prompt_number": 29
    },
    {
     "cell_type": "heading",
     "level": 2,
     "metadata": {},
     "source": [
      "primera aproximacion de $\\mu$ =0.491590 por promedios d$\\mu$=0.0040"
     ]
    },
    {
     "cell_type": "code",
     "collapsed": false,
     "input": [
      "#a=4*pi*pi*I/(c*A*T**2) M=4($\\pi^{2}$)In / c\"\n",
      "plot(uno_AT,M2,\"bo\",label=\"$\\mu=\\\\frac{4\\pi^{2}In}{c}$\")\n",
      "plot(uno_AT,M2,\"r\")\n",
      "xlabel(\"$ \\\\frac{1}{A\\cdot T^{2}}$\",size=15)\n",
      "\n",
      "legend()"
     ],
     "language": "python",
     "metadata": {},
     "outputs": [
      {
       "output_type": "pyout",
       "prompt_number": 30,
       "text": [
        "<matplotlib.legend.Legend at 0x492ae10>"
       ]
      },
      {
       "output_type": "display_data",
       "png": "[encoded data removed]"
      }
     ],
     "prompt_number": 30
    },
    {
     "cell_type": "code",
     "collapsed": false,
     "input": [
      "print M2"
     ],
     "language": "python",
     "metadata": {},
     "outputs": [
      {
       "output_type": "stream",
       "stream": "stdout",
       "text": [
        "[ 0.55583263  0.49512651  0.50033731  0.49836117  0.48262197  0.49417425\n",
        "  0.44583116  0.47256757  0.47945752]\n"
       ]
      }
     ],
     "prompt_number": 31
    },
    {
     "cell_type": "heading",
     "level": 1,
     "metadata": {},
     "source": [
      "hallemos $\\mu$"
     ]
    },
    {
     "cell_type": "heading",
     "level": 2,
     "metadata": {},
     "source": [
      "promedio de $\\mu$=0.4915900 +- d$\\mu$= 0.00404416403032"
     ]
    },
    {
     "cell_type": "code",
     "collapsed": false,
     "input": [
      "mean(M2)"
     ],
     "language": "python",
     "metadata": {},
     "outputs": [
      {
       "output_type": "pyout",
       "prompt_number": 32,
       "text": [
        "0.49159001069283748"
       ]
      }
     ],
     "prompt_number": 32
    },
    {
     "cell_type": "code",
     "collapsed": false,
     "input": [
      "T2=zeros(len(T),dtype=\"float\")\n",
      "_B=zeros(len(A),dtype=\"float\")\n",
      "B=zeros(len(A),dtype=\"float\")\n",
      "K=zeros(len(T),dtype=\"float\")\n",
      "\n",
      "for i in range(len(T)):\n",
      "    T2[i]=T[i]**2\n",
      "    _B[i]=1/A[i]*c\n",
      "    B[i]=A[i]*c\n",
      "    K[i]=c*A[i]*T[i]**2\n",
      "#plot(_B,T2,\"ro\")\n",
      "#plot(K,\"bo\")\n",
      "\n",
      "plot(_B,T2,\"ro\",label=\"$T^{2}=\\\\frac{4 pi^{2} I}{\\mu B}$\")\n",
      "xlabel(\"$\\\\frac{1}{B}$\",size=15)\n",
      "#ylabel(\"$ \\T^{2} $\",size=15)\n",
      "ylabel(\"$T^{ 2 }$ \",size=15,rotation=\"horizontal\")\n",
      "legend()"
     ],
     "language": "python",
     "metadata": {},
     "outputs": [
      {
       "output_type": "pyout",
       "prompt_number": 33,
       "text": [
        "<matplotlib.legend.Legend at 0x3af79d0>"
       ]
      },
      {
       "output_type": "display_data",
       "png": "[encoded data removed]"
      }
     ],
     "prompt_number": 33
    },
    {
     "cell_type": "code",
     "collapsed": false,
     "input": [
      "m=stats.linregress(_B,T2)[0]##m=4*pi\u00b2*I/mu\n",
      "mu=4*pi*pi*I/m\n",
      "print mu,m,I"
     ],
     "language": "python",
     "metadata": {},
     "outputs": [
      {
       "output_type": "stream",
       "stream": "stdout",
       "text": [
        "1.06265727362e-06 1723.1324287 4.63822848e-05\n"
       ]
      }
     ],
     "prompt_number": 34
    },
    {
     "cell_type": "code",
     "collapsed": false,
     "input": [
      "from scipy.optimize import curve_fit"
     ],
     "language": "python",
     "metadata": {},
     "outputs": [],
     "prompt_number": 35
    },
    {
     "cell_type": "code",
     "collapsed": false,
     "input": [
      "def fun(B,a):\n",
      "    return (a/B)"
     ],
     "language": "python",
     "metadata": {},
     "outputs": [],
     "prompt_number": 36
    },
    {
     "cell_type": "code",
     "collapsed": false,
     "input": [
      "valores,otros=curve_fit(fun,sort(B),T2)"
     ],
     "language": "python",
     "metadata": {},
     "outputs": [],
     "prompt_number": 37
    },
    {
     "cell_type": "code",
     "collapsed": false,
     "input": [
      "print valores"
     ],
     "language": "python",
     "metadata": {},
     "outputs": [
      {
       "output_type": "stream",
       "stream": "stdout",
       "text": [
        "[ 0.00338973]\n"
       ]
      }
     ],
     "prompt_number": 38
    },
    {
     "cell_type": "code",
     "collapsed": false,
     "input": [
      "fit=zeros(len(B),dtype=\"float\")\n",
      "for i in range(len(B)):\n",
      "    fit[i]=fun(B[i],valores[0])"
     ],
     "language": "python",
     "metadata": {},
     "outputs": [],
     "prompt_number": 39
    },
    {
     "cell_type": "code",
     "collapsed": false,
     "input": [
      "plot(B,T2,\"ro\",label=\"$T^2=\\\\frac{4\\pi^{2}I}{\\mu B}$\")\n",
      "#plot(B,fit,\"b\")\n",
      "err_x=c*0.05\n",
      "err_y=2*0.005\n",
      "errorbar(B, T2, xerr=err_x, yerr=err_y, fmt='o')\n",
      "plot(B,fit,\"go\")\n",
      "xlabel(\"$A$\",size=15)\n",
      "ylabel(\"$T^{2}$\",rotation=\"horizontal\",size=15)\n",
      "legend()\n",
      "mu=4*(pi**2)*I/valores[0]\n",
      "print mu\n",
      "#errorbar.\n",
      "\n",
      "title(\"$\\mu$=\"+str(mu),size=15)\n",
      "savefig(\"dos.png\")"
     ],
     "language": "python",
     "metadata": {},
     "outputs": [
      {
       "output_type": "stream",
       "stream": "stdout",
       "text": [
        "0.540189981815\n"
       ]
      },
      {
       "output_type": "display_data",
       "png": "[encoded data removed]"
      }
     ],
     "prompt_number": 61
    },
    {
     "cell_type": "code",
     "collapsed": false,
     "input": [
      "mu=4*(pi**2)*I/valores[0]\n",
      "print mu\n",
      "errormu=0\n",
      "for i in range(len(T)):\n",
      "    errormu=((T[i]-fit[i])**2)/len(T)\n",
      "print errormu    "
     ],
     "language": "python",
     "metadata": {},
     "outputs": [
      {
       "output_type": "stream",
       "stream": "stdout",
       "text": [
        "0.540189981815\n",
        "1.41426437153\n"
       ]
      }
     ],
     "prompt_number": 53
    },
    {
     "cell_type": "heading",
     "level": 2,
     "metadata": {},
     "source": [
      "$\\mu$ = 0.540189 +- $d\\mu$= 0.083"
     ]
    },
    {
     "cell_type": "heading",
     "level": 1,
     "metadata": {},
     "source": [
      "presecion---------------------------------------------------------------------------------------------------------------------------------"
     ]
    },
    {
     "cell_type": "code",
     "collapsed": false,
     "input": [
      "def f3(w,A,T):\n",
      "    return 2*pi*I*w/(T*c*A)"
     ],
     "language": "python",
     "metadata": {},
     "outputs": [],
     "prompt_number": 43
    },
    {
     "cell_type": "code",
     "collapsed": false,
     "input": [
      "f=[2.7, 3.7, 5.5, 4.4, 4.8, 4.7, 6.4]\n",
      "T=[13.63/5,16.16/2,19.26/4,21.65/6,21.16/6,29.99/5,23.12/6]\n",
      "A=[2.3,1,2.65,2.9,3.3,1.7,3.9]\n",
      "print T"
     ],
     "language": "python",
     "metadata": {},
     "outputs": [
      {
       "output_type": "stream",
       "stream": "stdout",
       "text": [
        "[2.726, 8.08, 4.815, 3.608333333333333, 3.526666666666667, 5.997999999999999, 3.8533333333333335]\n"
       ]
      }
     ],
     "prompt_number": 44
    },
    {
     "cell_type": "code",
     "collapsed": false,
     "input": [
      "w=zeros(len(f),dtype=\"float\")\n",
      "\n",
      "for i in range(len(f)):\n",
      "    w[i]=f[i]*(2*pi)\n",
      "    \n",
      "print len(w),len(f)"
     ],
     "language": "python",
     "metadata": {},
     "outputs": [
      {
       "output_type": "stream",
       "stream": "stdout",
       "text": [
        "7 7\n"
       ]
      }
     ],
     "prompt_number": 45
    },
    {
     "cell_type": "code",
     "collapsed": false,
     "input": [
      "M3=zeros(len(A),dtype=\"float\")\n",
      "\n",
      "constante=zeros(len(A),dtype=\"float\")\n",
      "\n",
      "for i in range(len(M3)):\n",
      "    M3[i]=f3(w[i],A[i],T[i])\n",
      "    constante[i]=w[i]/(A[i]*c)\n",
      "    \n",
      "print mean(M3),\"\\n\",M3    \n",
      "error=0\n",
      "for i in M3:\n",
      "    error=((i-mean(M3))**2)/len(M3)\n",
      "error=error**0.5    \n",
      "print error"
     ],
     "language": "python",
     "metadata": {},
     "outputs": [
      {
       "output_type": "stream",
       "stream": "stdout",
       "text": [
        "0.580325504801 \n",
        "[ 0.57557429  0.61204263  0.57611851  0.56200391  0.5512571   0.61607528\n",
        "  0.56920682]\n",
        "0.00420246762913\n"
       ]
      }
     ],
     "prompt_number": 48
    },
    {
     "cell_type": "heading",
     "level": 2,
     "metadata": {},
     "source": [
      "primera aproximacion $\\mu$=0.5803 promedio de m3 $d\\mu$= 0.0042"
     ]
    },
    {
     "cell_type": "code",
     "collapsed": false,
     "input": [],
     "language": "python",
     "metadata": {},
     "outputs": [],
     "prompt_number": 48
    },
    {
     "cell_type": "code",
     "collapsed": false,
     "input": [
      "plot(T,constante,\"bo\",label=\"$\\\\frac{\\omega}{B}$\")\n",
      "\n",
      "xlabel(\"T\",size=15)\n",
      "\n",
      "ylabel(\"$\\\\frac{\\omega}{B}$\",size=20,rotation=\"horizontal\")\n",
      "\n",
      "legend()\n",
      "m=stats.linregress(T,constante)[0]\n",
      "yo=stats.linregress(T,constante)[1]\n",
      "print yo"
     ],
     "language": "python",
     "metadata": {},
     "outputs": [
      {
       "output_type": "stream",
       "stream": "stdout",
       "text": [
        "-996.660770314\n"
       ]
      },
      {
       "output_type": "display_data",
       "png": "[encoded data removed]"
      }
     ],
     "prompt_number": 49
    },
    {
     "cell_type": "code",
     "collapsed": false,
     "input": [
      "dato=zeros(len(A),dtype=\"float\")\n",
      "\n",
      "for i in range(len(A)):\n",
      "        dato[i]=m*T[i]+yo"
     ],
     "language": "python",
     "metadata": {},
     "outputs": [],
     "prompt_number": 50
    },
    {
     "cell_type": "code",
     "collapsed": false,
     "input": [
      "plot(T,constante,\"ro\",label=\"$\\\\frac{\\omega}{B}= T \\\\frac{\\mu}{2 \\pi I}$\")\n",
      "\n",
      "xlabel(\"T\",size=15)\n",
      "\n",
      "ylabel(\"$\\\\frac{\\omega}{B}$\",size=20,rotation=\"horizontal\")\n",
      "        \n",
      "legend()     \n",
      "\n",
      "plot(T,dato)\n",
      "\n",
      "err_x=0\n",
      "err_y=2*0.005\n",
      "errorbar(B, T2, xerr=err_x, yerr=err_y, fmt='o')\n",
      "\n",
      "mu=(2*pi*I*m)\n",
      "print mu\n",
      "title(\"$\\mu$=\"+str(mu),size=15)\n",
      "savefig(\"tres.png\")"
     ],
     "language": "python",
     "metadata": {},
     "outputs": [
      {
       "output_type": "stream",
       "stream": "stdout",
       "text": [
        "0.649610882867\n"
       ]
      },
      {
       "output_type": "display_data",
       "png": "[encoded data removed]"
      }
     ],
     "prompt_number": 79
    },
    {
     "cell_type": "heading",
     "level": 2,
     "metadata": {},
     "source": [
      "$\\mu$ = 0.6496 a partir de la grafica "
     ]
    },
    {
     "cell_type": "code",
     "collapsed": false,
     "input": [
      "plot(w,T,\"bo\")"
     ],
     "language": "python",
     "metadata": {},
     "outputs": [
      {
       "output_type": "pyout",
       "prompt_number": 338,
       "text": [
        "[<matplotlib.lines.Line2D at 0xcb71d90>]"
       ]
      },
      {
       "output_type": "display_data",
       "png": "[encoded data removed]"
      }
     ],
     "prompt_number": 338
    },
    {
     "cell_type": "code",
     "collapsed": false,
     "input": [
      "TA=zeros(len(A),dtype=\"float\")"
     ],
     "language": "python",
     "metadata": {},
     "outputs": [],
     "prompt_number": 339
    },
    {
     "cell_type": "heading",
     "level": 1,
     "metadata": {},
     "source": [
      "hallando \\mu de presecion "
     ]
    },
    {
     "cell_type": "code",
     "collapsed": false,
     "input": [
      "mean(M3)"
     ],
     "language": "python",
     "metadata": {},
     "outputs": [
      {
       "output_type": "pyout",
       "prompt_number": 340,
       "text": [
        "0.5803255048013618"
       ]
      }
     ],
     "prompt_number": 340
    },
    {
     "cell_type": "code",
     "collapsed": false,
     "input": [],
     "language": "python",
     "metadata": {},
     "outputs": [],
     "prompt_number": 340
    },
    {
     "cell_type": "code",
     "collapsed": false,
     "input": [],
     "language": "python",
     "metadata": {},
     "outputs": [],
     "prompt_number": 215
    },
    {
     "cell_type": "code",
     "collapsed": false,
     "input": [],
     "language": "python",
     "metadata": {},
     "outputs": []
    }
   ],
   "metadata": {}
  }
 ]
}