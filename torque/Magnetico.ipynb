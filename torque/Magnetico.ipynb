{
 "metadata": {
  "name": "Magnetico"
 },
 "nbformat": 3,
 "nbformat_minor": 0,
 "worksheets": [
  {
   "cells": [
    {
     "cell_type": "code",
     "collapsed": false,
     "input": [
      "%pylab inline\n"
     ],
     "language": "python",
     "metadata": {},
     "outputs": [
      {
       "output_type": "stream",
       "stream": "stdout",
       "text": [
        "\n",
        "Welcome to pylab, a matplotlib-based Python environment [backend: module://IPython.zmq.pylab.backend_inline].\n",
        "For more information, type 'help(pylab)'.\n"
       ]
      }
     ],
     "prompt_number": 218
    },
    {
     "cell_type": "code",
     "collapsed": false,
     "input": [
      "g=9.8#m/s^2\n",
      "m1=139.8/1000#grs\n",
      "m2=1.6/1000#grs\n",
      "c=0.00137#tesla/ampere\n",
      "R=2.88#cm\n",
      "I=2*m1*(R**2)/50000\n",
      "print 2*m1*(R**2)/50000,I"
     ],
     "language": "python",
     "metadata": {},
     "outputs": [
      {
       "output_type": "stream",
       "stream": "stdout",
       "text": [
        "4.63822848e-05 4.63822848e-05\n"
       ]
      }
     ],
     "prompt_number": 219
    },
    {
     "cell_type": "heading",
     "level": 1,
     "metadata": {},
     "source": [
      "Funciones"
     ]
    },
    {
     "cell_type": "code",
     "collapsed": false,
     "input": [
      "def f1(A,l):\n",
      "    a=m2*g*l/(c*A)\n",
      "    return a"
     ],
     "language": "python",
     "metadata": {},
     "outputs": [],
     "prompt_number": 220
    },
    {
     "cell_type": "code",
     "collapsed": false,
     "input": [
      "def f2(T,A):\n",
      "    a=4*pi*pi*I/(c*A*T**2)\n",
      "    return a"
     ],
     "language": "python",
     "metadata": {},
     "outputs": [],
     "prompt_number": 221
    },
    {
     "cell_type": "heading",
     "level": 1,
     "metadata": {},
     "source": [
      "estatico"
     ]
    },
    {
     "cell_type": "heading",
     "level": 2,
     "metadata": {},
     "source": [
      "             matrices"
     ]
    },
    {
     "cell_type": "code",
     "collapsed": false,
     "input": [
      "A=[3.2,2.85,2.7,2.6,2.4,2.1,3.4,2.9,2.7,2.1]#amperios\n",
      "L=[6.35 , 4.75 , 4.15 , 3.75 , 2.58 , 1.85 , 6.98 , 5.035 , 4.34 , 2.065]#cm\n",
      "M1=zeros(len(A),dtype=\"float\")\n",
      "print len(A),len(L),len(M1)"
     ],
     "language": "python",
     "metadata": {},
     "outputs": [
      {
       "output_type": "stream",
       "stream": "stdout",
       "text": [
        "10 10 10\n"
       ]
      }
     ],
     "prompt_number": 222
    },
    {
     "cell_type": "heading",
     "level": 3,
     "metadata": {},
     "source": [
      "L en metros"
     ]
    },
    {
     "cell_type": "code",
     "collapsed": false,
     "input": [
      "#L a metros\n",
      "print L\n",
      "for i in range(len(L)):\n",
      "    L[i]=(L[i]+R)/100\n",
      "print L    "
     ],
     "language": "python",
     "metadata": {},
     "outputs": [
      {
       "output_type": "stream",
       "stream": "stdout",
       "text": [
        "[6.35, 4.75, 4.15, 3.75, 2.58, 1.85, 6.98, 5.035, 4.34, 2.065]\n",
        "[0.09230000000000001, 0.07629999999999999, 0.0703, 0.0663, 0.0546, 0.0473, 0.0986, 0.07915, 0.0722, 0.04945]\n"
       ]
      }
     ],
     "prompt_number": 223
    },
    {
     "cell_type": "heading",
     "level": 3,
     "metadata": {},
     "source": [
      "hallando $\\mu$"
     ]
    },
    {
     "cell_type": "code",
     "collapsed": false,
     "input": [
      "for i in range(len(M1)):\n",
      "    M1[i]=f1(A[i],L[i])\n",
      "    \n",
      "print mean(M1), \"primera aproximacion de $\\mu$\"    \n",
      "    "
     ],
     "language": "python",
     "metadata": {},
     "outputs": [
      {
       "output_type": "stream",
       "stream": "stdout",
       "text": [
        "0.296441261115 primera aproximacion de $\\mu$\n"
       ]
      }
     ],
     "prompt_number": 227
    },
    {
     "cell_type": "heading",
     "level": 3,
     "metadata": {},
     "source": [
      "primera aproximacion $\\mu$=0.29644"
     ]
    },
    {
     "cell_type": "code",
     "collapsed": false,
     "input": [
      "print M1 \n",
      "L_A=zeros(len(A),dtype=\"float\")\n",
      "for i in range(len(A)):\n",
      "    L_A[i]=L[i]/A[i]"
     ],
     "language": "python",
     "metadata": {},
     "outputs": [
      {
       "output_type": "stream",
       "stream": "stdout",
       "text": [
        "[ 0.33012409  0.30641158  0.29800054  0.29185401  0.26037956  0.25779075\n",
        "  0.33191241  0.31237654  0.30605461  0.26950852]\n"
       ]
      }
     ],
     "prompt_number": 194
    },
    {
     "cell_type": "code",
     "collapsed": false,
     "input": [
      "plot(L_A,M1, \"ro\")\n",
      "xlabel(\"L/A\",size=15)\n",
      "ylabel(\"$ \\mu $\",rotation=\"horizontal\",size=20)"
     ],
     "language": "python",
     "metadata": {},
     "outputs": [
      {
       "output_type": "pyout",
       "prompt_number": 195,
       "text": [
        "<matplotlib.text.Text at 0xe0744d0>"
       ]
      },
      {
       "output_type": "display_data",
       "png": "[encoded data removed]"
      }
     ],
     "prompt_number": 195
    },
    {
     "cell_type": "code",
     "collapsed": false,
     "input": [
      "from scipy import stats\n"
     ],
     "language": "python",
     "metadata": {},
     "outputs": [],
     "prompt_number": 196
    },
    {
     "cell_type": "code",
     "collapsed": false,
     "input": [
      "mu=stats.linregress(A,L)[0]*m2*g/c\n",
      "print mu"
     ],
     "language": "python",
     "metadata": {},
     "outputs": [
      {
       "output_type": "stream",
       "stream": "stdout",
       "text": [
        "0.458004236254\n"
       ]
      }
     ],
     "prompt_number": 229
    },
    {
     "cell_type": "heading",
     "level": 2,
     "metadata": {},
     "source": [
      "$\\mu$ = 0.4580"
     ]
    },
    {
     "cell_type": "code",
     "collapsed": false,
     "input": [
      "plot(A,L,\"bo\")\n",
      "pend=zeros(len(A),dtype=\"float\")\n",
      "\n",
      "plot(pend,L)\n",
      "mean(M1)"
     ],
     "language": "python",
     "metadata": {},
     "outputs": [
      {
       "output_type": "pyout",
       "prompt_number": 234,
       "text": [
        "0.29644126111486463"
       ]
      },
      {
       "output_type": "display_data",
       "png": "[encoded data removed]"
      }
     ],
     "prompt_number": 234
    },
    {
     "cell_type": "heading",
     "level": 2,
     "metadata": {},
     "source": [
      "hallemos $\\mu$"
     ]
    },
    {
     "cell_type": "code",
     "collapsed": false,
     "input": [
      "plot(L,A,\"bo\")\n",
      "xlabel(\"L \",size=15)\n",
      "ylabel(\"A \",rotation=\"horizontal\",size=15)\n",
      "print \"de aqui hallamos la pendiente para hallar mu\""
     ],
     "language": "python",
     "metadata": {},
     "outputs": [
      {
       "output_type": "stream",
       "stream": "stdout",
       "text": [
        "de aqui hallamos la pendiente para hallar mu\n"
       ]
      },
      {
       "output_type": "display_data",
       "png": "[encoded data removed]"
      }
     ],
     "prompt_number": 235
    },
    {
     "cell_type": "heading",
     "level": 1,
     "metadata": {},
     "source": [
      "oscilaciones"
     ]
    },
    {
     "cell_type": "code",
     "collapsed": false,
     "input": [
      "#a=4*pi*pi*I/(c*A*T**2)\n",
      "\n",
      "A=[0.5,1.0,1.5,2.0,2.5,3.0,3.5,1.3,3.7]\n",
      "T=[43.86 , 32.86 , 26.69 , 23.16 , 21.05 , 18.99 , 18.51 , 29.5 ,17.36]\n",
      "M2=zeros(len(A),dtype=\"float\")"
     ],
     "language": "python",
     "metadata": {},
     "outputs": [],
     "prompt_number": 200
    },
    {
     "cell_type": "code",
     "collapsed": false,
     "input": [
      "for i in range(len(T)):\n",
      "    T[i]=T[i]/20"
     ],
     "language": "python",
     "metadata": {},
     "outputs": [],
     "prompt_number": 201
    },
    {
     "cell_type": "code",
     "collapsed": false,
     "input": [
      "print T,\"\\n\",pi,\"\\n\",I,\"\\n\",A\n"
     ],
     "language": "python",
     "metadata": {},
     "outputs": [
      {
       "output_type": "stream",
       "stream": "stdout",
       "text": [
        "[2.193, 1.643, 1.3345, 1.158, 1.0525, 0.9494999999999999, 0.9255000000000001, 1.475, 0.868] \n",
        "3.14159265359 \n",
        "4.63822848e-05 \n",
        "[0.5, 1.0, 1.5, 2.0, 2.5, 3.0, 3.5, 1.3, 3.7]\n"
       ]
      }
     ],
     "prompt_number": 202
    },
    {
     "cell_type": "code",
     "collapsed": false,
     "input": [
      "for i in range(len(A)):\n",
      "    M2[i]=f2(T[i],A[i])\n",
      "    print f2(T[i],A[i])\n",
      "    \n",
      "#se define 1/A*T**2\n",
      "uno_AT=zeros(len(A),dtype=\"float\")  \n",
      "\n",
      "for i in range(len(A)):\n",
      "    uno_AT[i]=1/(A[i]*T[i]**2)"
     ],
     "language": "python",
     "metadata": {},
     "outputs": [
      {
       "output_type": "stream",
       "stream": "stdout",
       "text": [
        "0.555832632302\n",
        "0.4951265112\n",
        "0.500337313705\n",
        "0.498361166121\n",
        "0.482621972309\n",
        "0.494174253564\n",
        "0.445831158361\n",
        "0.472567570073\n",
        "0.479457518602\n"
       ]
      }
     ],
     "prompt_number": 203
    },
    {
     "cell_type": "code",
     "collapsed": false,
     "input": [
      "#a=4*pi*pi*I/(c*A*T**2) M=4($\\pi^{2}$)In / c\"\n",
      "plot(uno_AT,M2,\"bo\",label=\"$\\mu=\\\\frac{4\\pi^{2}In}{c}$\")\n",
      "plot(uno_AT,M2,\"r\")\n",
      "xlabel(\"$ \\\\frac{1}{A\\cdot T^{2}}$\",size=15)\n",
      "\n",
      "legend()"
     ],
     "language": "python",
     "metadata": {},
     "outputs": [
      {
       "output_type": "pyout",
       "prompt_number": 204,
       "text": [
        "<matplotlib.legend.Legend at 0xe65a410>"
       ]
      },
      {
       "output_type": "display_data",
       "png": "[encoded data removed]"
      }
     ],
     "prompt_number": 204
    },
    {
     "cell_type": "code",
     "collapsed": false,
     "input": [
      "print M2"
     ],
     "language": "python",
     "metadata": {},
     "outputs": [
      {
       "output_type": "stream",
       "stream": "stdout",
       "text": [
        "[ 0.55583263  0.49512651  0.50033731  0.49836117  0.48262197  0.49417425\n",
        "  0.44583116  0.47256757  0.47945752]\n"
       ]
      }
     ],
     "prompt_number": 205
    },
    {
     "cell_type": "heading",
     "level": 1,
     "metadata": {},
     "source": [
      "hallemos \\mu"
     ]
    },
    {
     "cell_type": "heading",
     "level": 2,
     "metadata": {},
     "source": [
      "promedio de $\\mu$=0.4915900"
     ]
    },
    {
     "cell_type": "code",
     "collapsed": false,
     "input": [
      "mean(M2)"
     ],
     "language": "python",
     "metadata": {},
     "outputs": [
      {
       "output_type": "pyout",
       "prompt_number": 237,
       "text": [
        "0.49159001069283748"
       ]
      }
     ],
     "prompt_number": 237
    },
    {
     "cell_type": "code",
     "collapsed": false,
     "input": [
      "T2=zeros(len(T),dtype=\"float\")\n",
      "_B=zeros(len(T),dtype=\"float\")\n",
      "K=zeros(len(T),dtype=\"float\")\n",
      "for i in range(len(T)):\n",
      "    T2[i]=T[i]**2\n",
      "    _B[i]=1/A[i]*c\n",
      "    K[i]=c*A[i]*T[i]**2\n",
      "#plot(_B,T2,\"ro\")\n",
      "plot(K,\"bo\")"
     ],
     "language": "python",
     "metadata": {},
     "outputs": [
      {
       "output_type": "pyout",
       "prompt_number": 239,
       "text": [
        "[<matplotlib.lines.Line2D at 0xf4e5d50>]"
       ]
      },
      {
       "output_type": "display_data",
       "png": "[encoded data removed]"
      }
     ],
     "prompt_number": 239
    },
    {
     "cell_type": "heading",
     "level": 1,
     "metadata": {},
     "source": [
      "presecion"
     ]
    },
    {
     "cell_type": "code",
     "collapsed": false,
     "input": [
      "def f3(w,A,T):\n",
      "    return 2*pi*I*w/(T*c*A)"
     ],
     "language": "python",
     "metadata": {},
     "outputs": [],
     "prompt_number": 240
    },
    {
     "cell_type": "code",
     "collapsed": false,
     "input": [
      "f=[2.7, 3.7, 5.5, 4.4, 4.8, 4.7, 6.4]\n",
      "T=[13.63/5,16.16/2,19.26/4,21.65/6,21.16/6,29.99/5,23.12/6]\n",
      "A=[2.3,1,2.65,2.9,3.3,1.7,3.9]\n",
      "print T"
     ],
     "language": "python",
     "metadata": {},
     "outputs": [
      {
       "output_type": "stream",
       "stream": "stdout",
       "text": [
        "[2.726, 8.08, 4.815, 3.608333333333333, 3.526666666666667, 5.997999999999999, 3.8533333333333335]\n"
       ]
      }
     ],
     "prompt_number": 241
    },
    {
     "cell_type": "code",
     "collapsed": false,
     "input": [
      "w=zeros(len(f),dtype=\"float\")\n",
      "for i in range(len(f)):\n",
      "    w[i]=f[i]/(2*pi)\n",
      "print len(w),len(f)"
     ],
     "language": "python",
     "metadata": {},
     "outputs": [
      {
       "output_type": "stream",
       "stream": "stdout",
       "text": [
        "7 7\n"
       ]
      }
     ],
     "prompt_number": 242
    },
    {
     "cell_type": "code",
     "collapsed": false,
     "input": [
      "M3=zeros(len(A),dtype=\"float\")\n",
      "for i in range(len(M3)):\n",
      "    M3[i]=f3(w[i],A[i],T[i])"
     ],
     "language": "python",
     "metadata": {},
     "outputs": [],
     "prompt_number": 243
    },
    {
     "cell_type": "code",
     "collapsed": false,
     "input": [
      "constante=zeros(len(A),dtype=\"float\")\n",
      "for i in range(len(A)):\n",
      "    constante[i]=w[i]/(T[i]*A[i])"
     ],
     "language": "python",
     "metadata": {},
     "outputs": [],
     "prompt_number": 244
    },
    {
     "cell_type": "code",
     "collapsed": false,
     "input": [
      "plot(constante,M3,\"go\")\n",
      "plot(constante,M3,\"r\")"
     ],
     "language": "python",
     "metadata": {},
     "outputs": [
      {
       "output_type": "pyout",
       "prompt_number": 245,
       "text": [
        "[<matplotlib.lines.Line2D at 0xfd4f9d0>]"
       ]
      },
      {
       "output_type": "display_data",
       "png": "[encoded data removed]"
      }
     ],
     "prompt_number": 245
    },
    {
     "cell_type": "code",
     "collapsed": false,
     "input": [
      "plot(w,T,\"bo\")"
     ],
     "language": "python",
     "metadata": {},
     "outputs": [
      {
       "output_type": "pyout",
       "prompt_number": 246,
       "text": [
        "[<matplotlib.lines.Line2D at 0xe813e50>]"
       ]
      },
      {
       "output_type": "display_data",
       "png": "[encoded data removed]"
      }
     ],
     "prompt_number": 246
    },
    {
     "cell_type": "code",
     "collapsed": false,
     "input": [
      "TA=zeros(len(A),dtype=\"float\")"
     ],
     "language": "python",
     "metadata": {},
     "outputs": [],
     "prompt_number": 248
    },
    {
     "cell_type": "heading",
     "level": 1,
     "metadata": {},
     "source": [
      "hallando \\mu de presecion "
     ]
    },
    {
     "cell_type": "code",
     "collapsed": false,
     "input": [
      "mean(M3)"
     ],
     "language": "python",
     "metadata": {},
     "outputs": [
      {
       "output_type": "pyout",
       "prompt_number": 249,
       "text": [
        "0.014699816761077789"
       ]
      }
     ],
     "prompt_number": 249
    },
    {
     "cell_type": "code",
     "collapsed": false,
     "input": [],
     "language": "python",
     "metadata": {},
     "outputs": [],
     "prompt_number": 249
    },
    {
     "cell_type": "code",
     "collapsed": false,
     "input": [],
     "language": "python",
     "metadata": {},
     "outputs": [],
     "prompt_number": 215
    },
    {
     "cell_type": "code",
     "collapsed": false,
     "input": [],
     "language": "python",
     "metadata": {},
     "outputs": []
    }
   ],
   "metadata": {}
  }
 ]
}