{
 "metadata": {
  "name": "Magnetico"
 },
 "nbformat": 3,
 "nbformat_minor": 0,
 "worksheets": [
  {
   "cells": [
    {
     "cell_type": "code",
     "collapsed": false,
     "input": [
      "%pylab inline"
     ],
     "language": "python",
     "metadata": {},
     "outputs": [
      {
       "output_type": "stream",
       "stream": "stdout",
       "text": [
        "\n",
        "Welcome to pylab, a matplotlib-based Python environment [backend: module://IPython.zmq.pylab.backend_inline].\n",
        "For more information, type 'help(pylab)'.\n"
       ]
      }
     ],
     "prompt_number": 13
    },
    {
     "cell_type": "code",
     "collapsed": false,
     "input": [
      "g=9.8#m/s^2\n",
      "m1=139.8/1000#grs\n",
      "m2=1.6/1000#grs\n",
      "c=0.00137#tesla/ampere\n",
      "R=2.88#cm\n",
      "I=(2/5)*m1*(R/100)**2"
     ],
     "language": "python",
     "metadata": {},
     "outputs": [],
     "prompt_number": 14
    },
    {
     "cell_type": "heading",
     "level": 1,
     "metadata": {},
     "source": [
      "Funciones"
     ]
    },
    {
     "cell_type": "code",
     "collapsed": false,
     "input": [
      "def f1(A,l):\n",
      "    a=m2*g*l/(c*A)\n",
      "    return a"
     ],
     "language": "python",
     "metadata": {},
     "outputs": [],
     "prompt_number": 15
    },
    {
     "cell_type": "code",
     "collapsed": false,
     "input": [
      "def f2(T,A):\n",
      "    a=4*pi*pi*I/(c*A*T**2)\n",
      "    return a"
     ],
     "language": "python",
     "metadata": {},
     "outputs": [],
     "prompt_number": 16
    },
    {
     "cell_type": "heading",
     "level": 1,
     "metadata": {},
     "source": [
      "estatico"
     ]
    },
    {
     "cell_type": "heading",
     "level": 2,
     "metadata": {},
     "source": [
      "             matrices"
     ]
    },
    {
     "cell_type": "code",
     "collapsed": false,
     "input": [
      "A=[3.2,2.85,2.7,2.6,2.4,2.1,3.4,2.9,2.7,2.1]#amperios\n",
      "L=[6.35 , 4.75 , 4.15 , 3.75 , 2.58 , 1.85 , 6.98 , 5.035 , 4.34 , 2.065]#cm\n",
      "M1=zeros(len(A),dtype=\"float\")\n",
      "print len(A),len(L),len(M1)"
     ],
     "language": "python",
     "metadata": {},
     "outputs": [
      {
       "output_type": "stream",
       "stream": "stdout",
       "text": [
        "10 10 10\n"
       ]
      }
     ],
     "prompt_number": 17
    },
    {
     "cell_type": "code",
     "collapsed": false,
     "input": [
      "#L a metros\n",
      "print L\n",
      "for i in range(len(L)):\n",
      "    L[i]=(L[i]+R)/100\n",
      "print L    "
     ],
     "language": "python",
     "metadata": {},
     "outputs": [
      {
       "output_type": "stream",
       "stream": "stdout",
       "text": [
        "[6.35, 4.75, 4.15, 3.75, 2.58, 1.85, 6.98, 5.035, 4.34, 2.065]\n",
        "[0.09230000000000001, 0.07629999999999999, 0.0703, 0.0663, 0.0546, 0.0473, 0.0986, 0.07915, 0.0722, 0.04945]\n"
       ]
      }
     ],
     "prompt_number": 18
    },
    {
     "cell_type": "code",
     "collapsed": false,
     "input": [
      "for i in range(len(M1)):\n",
      "    M1[i]=f1(A[i],L[i])\n",
      "    \n",
      "    \n",
      "    "
     ],
     "language": "python",
     "metadata": {},
     "outputs": [],
     "prompt_number": 29
    },
    {
     "cell_type": "code",
     "collapsed": false,
     "input": [
      "print M1 \n",
      "L_A=zeros(len(A),dtype=\"float\")\n",
      "for i in range(len(A)):\n",
      "    L_A[i]=L[i]/A[i]"
     ],
     "language": "python",
     "metadata": {},
     "outputs": [
      {
       "output_type": "stream",
       "stream": "stdout",
       "text": [
        "[ 0.33012409  0.30641158  0.29800054  0.29185401  0.26037956  0.25779075\n",
        "  0.33191241  0.31237654  0.30605461  0.26950852]\n"
       ]
      }
     ],
     "prompt_number": 35
    },
    {
     "cell_type": "code",
     "collapsed": false,
     "input": [
      "plot(L_A,M1, \"ro\")\n",
      "xlabel(\"L/A\",size=15)\n",
      "ylabel(\"$ \\mu $\",rotation=\"horizontal\",size=20)"
     ],
     "language": "python",
     "metadata": {},
     "outputs": [
      {
       "output_type": "pyout",
       "prompt_number": 51,
       "text": [
        "<matplotlib.text.Text at 0x7491250>"
       ]
      },
      {
       "output_type": "display_data",
       "png": "[encoded data removed]"
      }
     ],
     "prompt_number": 51
    },
    {
     "cell_type": "heading",
     "level": 1,
     "metadata": {},
     "source": [
      "oscilaciones"
     ]
    },
    {
     "cell_type": "code",
     "collapsed": false,
     "input": [],
     "language": "python",
     "metadata": {},
     "outputs": []
    }
   ],
   "metadata": {}
  }
 ]
}