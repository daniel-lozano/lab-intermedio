{
 "metadata": {
  "name": "Difraccion"
 },
 "nbformat": 3,
 "nbformat_minor": 0,
 "worksheets": [
  {
   "cells": [
    {
     "cell_type": "heading",
     "level": 1,
     "metadata": {},
     "source": [
      "\n",
      "Difraccion de electrones"
     ]
    },
    {
     "cell_type": "code",
     "collapsed": false,
     "input": [
      "%pylab inline\n"
     ],
     "language": "python",
     "metadata": {},
     "outputs": [
      {
       "output_type": "stream",
       "stream": "stdout",
       "text": [
        "\n",
        "Welcome to pylab, a matplotlib-based Python environment [backend: module://IPython.zmq.pylab.backend_inline].\n",
        "For more information, type 'help(pylab)'.\n"
       ]
      }
     ],
     "prompt_number": 1
    },
    {
     "cell_type": "code",
     "collapsed": false,
     "input": [
      "U=[3000,3500,4000,4500,5000]"
     ],
     "language": "python",
     "metadata": {},
     "outputs": [],
     "prompt_number": 2
    },
    {
     "cell_type": "code",
     "collapsed": false,
     "input": [
      "d1=2.13*pow(10,-10)\n",
      "d2=1.23*pow(10,-10)\n",
      "L=136.95/1000"
     ],
     "language": "python",
     "metadata": {},
     "outputs": [],
     "prompt_number": 3
    },
    {
     "cell_type": "heading",
     "level": 2,
     "metadata": {},
     "source": [
      "Se computan los datos y se dan los promedios para cada energia separada del circulo mas peque\u00f1o"
     ]
    },
    {
     "cell_type": "code",
     "collapsed": false,
     "input": [
      "D1_3  =[43.3,43.1,42.1,44.9,44.1]\n",
      "D1_35 =[40.9,42.65,41.7,41.1,39.7]\n",
      "D1_4  =[37.0,38.1,38.4,36.2,38.8]\n",
      "D1_45 =[36.1,34.85,36.1,35.5,35.1]\n",
      "D1_5  =[35.0,32.3,32.5,32.75,33.9]"
     ],
     "language": "python",
     "metadata": {},
     "outputs": [],
     "prompt_number": 4
    },
    {
     "cell_type": "code",
     "collapsed": false,
     "input": [
      "#para U=3.0\n",
      "a=0\n",
      "for i in D1_3:\n",
      "    a=a+i\n",
      "d13=a/len(D1_3)    \n",
      "print \"promedio de D1_3 \"+str(a/len(D1_3))+\"\\n\"\n",
      "\n",
      "#para U=3.5\n",
      "a=0\n",
      "for i in D1_35:\n",
      "    a=a+i\n",
      "d135=a/len(D1_3)    \n",
      "print \"promedio de D1_35 \"+str(a/len(D1_35))+\"\\n\"\n",
      "\n",
      "#para U=4.0\n",
      "a=0\n",
      "for i in D1_4:\n",
      "    a=a+i\n",
      "d14=a/len(D1_3)    \n",
      "print \"promedio de D1_4 \"+str(a/len(D1_4))+\"\\n\"\n",
      "\n",
      "#para U=4.5\n",
      "a=0\n",
      "for i in D1_45:\n",
      "    a=a+i\n",
      "d145=a/len(D1_3)    \n",
      "print \"promedio de D1_45 \"+str(a/len(D1_45))+\"\\n\"\n",
      "\n",
      "#para U=5\n",
      "a=0\n",
      "for i in D1_5:\n",
      "    a=a+i\n",
      "d15=a/len(D1_3)    \n",
      "print \"promedio de D1_5 \"+str(a/len(D1_5))+\"\\n\"\n",
      "\n",
      "D1m=[d13,d135,d14,d145,d15]\n"
     ],
     "language": "python",
     "metadata": {},
     "outputs": [
      {
       "output_type": "stream",
       "stream": "stdout",
       "text": [
        "promedio de D1_3 43.5\n",
        "\n",
        "promedio de D1_35 41.21\n",
        "\n",
        "promedio de D1_4 37.7\n",
        "\n",
        "promedio de D1_45 35.53\n",
        "\n",
        "promedio de D1_5 33.29\n",
        "\n"
       ]
      }
     ],
     "prompt_number": 5
    },
    {
     "cell_type": "heading",
     "level": 2,
     "metadata": {},
     "source": [
      "Se computan los datos y se dan los promedios para cada energia separada del circulo mas grande"
     ]
    },
    {
     "cell_type": "code",
     "collapsed": false,
     "input": [
      "D2_3  =[77.7,73.15,76.1,71.9,75.9]\n",
      "D2_35 =[66.7,64.6,62.8,63.5,63.9]\n",
      "D2_4  =[60.1,61.9,62.95,61.75,63.3]\n",
      "D2_45 =[57.9,57.8,58.4,58.7,59.5]\n",
      "D2_5  =[57.5,58.0,57.3,57.65,57.95]"
     ],
     "language": "python",
     "metadata": {},
     "outputs": [],
     "prompt_number": 6
    },
    {
     "cell_type": "code",
     "collapsed": false,
     "input": [
      "#para U=3.0\n",
      "a=0\n",
      "for i in D2_3:\n",
      "    a=a+i\n",
      "d23=a/len(D1_3)    \n",
      "print \"promedio de D2_3 \"+str(a/len(D2_3))+\"\\n\"\n",
      "\n",
      "#para U=3.5\n",
      "a=0\n",
      "for i in D2_35:\n",
      "    a=a+i\n",
      "d235=a/len(D1_3)    \n",
      "print \"promedio de D2_35 \"+str(a/len(D2_35))+\"\\n\"\n",
      "\n",
      "#para U=4.0\n",
      "a=0\n",
      "for i in D2_4:\n",
      "    a=a+i\n",
      "d24=a/len(D1_3)    \n",
      "print \"promedio de D2_4 \"+str(a/len(D2_4))+\"\\n\"\n",
      "\n",
      "#para U=4.5\n",
      "a=0\n",
      "for i in D2_45:\n",
      "    a=a+i\n",
      "d245=a/len(D1_3)    \n",
      "print \"promedio de D2_45 \"+str(a/len(D2_45))+\"\\n\"\n",
      "\n",
      "#para U=5\n",
      "a=0\n",
      "for i in D2_5:\n",
      "    a=a+i\n",
      "d25=a/len(D1_3)    \n",
      "print \"promedio de D2_5 \"+str(a/len(D2_5))+\"\\n\"\n",
      "\n",
      "D2m=[d23,d235,d24,d245,d25]\n"
     ],
     "language": "python",
     "metadata": {},
     "outputs": [
      {
       "output_type": "stream",
       "stream": "stdout",
       "text": [
        "promedio de D2_3 74.95\n",
        "\n",
        "promedio de D2_35 64.3\n",
        "\n",
        "promedio de D2_4 62.0\n",
        "\n",
        "promedio de D2_45 58.46\n",
        "\n",
        "promedio de D2_5 57.68\n",
        "\n"
       ]
      }
     ],
     "prompt_number": 7
    },
    {
     "cell_type": "code",
     "collapsed": false,
     "input": [
      "plot(D1_3,\"bo\",label=\"3.0 KV\")\n",
      "title(\"datos tomados, U=3.0KV\",size=20)\n",
      "xlabel(\"datos\",size=15)\n",
      "ylabel(\"diametros radio menor\",size=15)\n",
      "\n",
      "xlim(-1,5)\n",
      "\n",
      "plot(D1_45,\"ko\",label=\"3.5 KV\")\n",
      "plot(D1_35,\"ro\",label=\"4.0 KV\")\n",
      "plot(D1_4,\"yo\",label=\"4.5 KV\")\n",
      "plot(D1_5,\"co\",label=\"5.0 KV\")\n",
      "legend()\n"
     ],
     "language": "python",
     "metadata": {},
     "outputs": [
      {
       "output_type": "pyout",
       "prompt_number": 8,
       "text": [
        "<matplotlib.legend.Legend at 0x3e92810>"
       ]
      },
      {
       "output_type": "display_data",
       "png": "[encoded data removed]"
      }
     ],
     "prompt_number": 8
    },
    {
     "cell_type": "heading",
     "level": 2,
     "metadata": {},
     "source": [
      "calculamos los momentos de cada energia U"
     ]
    },
    {
     "cell_type": "code",
     "collapsed": false,
     "input": [
      "masa=9.10*pow(10,-31)\n",
      "print \"masa del electron en kilogramos: \"+str(masa)+\"\\n\"\n",
      "\n",
      "carga=1.6*pow(10,-19)\n",
      "\n",
      "print \"carga del electron en coulomb: \" +str(carga)+\"\\n\"\n",
      "\n",
      "h=6.626*pow(10,-34)\n",
      "\n",
      "print \"constante de plank: \"+str(h)+\"\\n\""
     ],
     "language": "python",
     "metadata": {},
     "outputs": [
      {
       "output_type": "stream",
       "stream": "stdout",
       "text": [
        "masa del electron en kilogramos: 9.1e-31\n",
        "\n",
        "carga del electron en coulomb: 1.6e-19\n",
        "\n",
        "constante de plank: 6.626e-34\n",
        "\n"
       ]
      }
     ],
     "prompt_number": 9
    },
    {
     "cell_type": "heading",
     "level": 1,
     "metadata": {},
     "source": [
      "se calculan los momentos de D1"
     ]
    },
    {
     "cell_type": "code",
     "collapsed": false,
     "input": [
      "Pu=zeros(5,dtype=float)\n"
     ],
     "language": "python",
     "metadata": {},
     "outputs": [],
     "prompt_number": 10
    },
    {
     "cell_type": "code",
     "collapsed": false,
     "input": [
      "P3=pow(2*carga*masa*U[0],0.5)\n",
      "print U[0]\n",
      "Pu[0]=P3\n",
      "\n",
      "P35=pow(2*carga*masa*U[1],0.5)\n",
      "print U[1]\n",
      "Pu[1]=P35\n",
      "\n",
      "P4=pow(2*carga*masa*U[2],0.5)\n",
      "print U[2]\n",
      "Pu[2]=P4\n",
      "\n",
      "P45=pow(2*carga*masa*U[3],0.5)\n",
      "print U[3]\n",
      "Pu[3]=P45\n",
      "\n",
      "P5=pow(2*carga*masa*U[4],0.5)\n",
      "print U[4]\n",
      "Pu[4]=P5\n",
      "print \"\\n\"\n",
      "\n",
      "print Pu\n"
     ],
     "language": "python",
     "metadata": {},
     "outputs": [
      {
       "output_type": "stream",
       "stream": "stdout",
       "text": [
        "3000\n",
        "3500\n",
        "4000\n",
        "4500\n",
        "5000\n",
        "\n",
        "\n",
        "[  2.95567251e-23   3.19249119e-23   3.41291664e-23   3.61994475e-23\n",
        "   3.81575681e-23]\n"
       ]
      }
     ],
     "prompt_number": 11
    },
    {
     "cell_type": "code",
     "collapsed": false,
     "input": [
      "k1=(2*(L)*h)/(d1*pow(2*masa*carga,0.5))\n",
      "k2=(2*(L)*h)/(d2*pow(2*masa*carga,0.5))"
     ],
     "language": "python",
     "metadata": {},
     "outputs": [],
     "prompt_number": 12
    },
    {
     "cell_type": "code",
     "collapsed": false,
     "input": [
      "def lamda(d1,D):\n",
      " return(d1*D/(2*L*1000))\n",
      "\n",
      "   "
     ],
     "language": "python",
     "metadata": {},
     "outputs": [],
     "prompt_number": 13
    },
    {
     "cell_type": "code",
     "collapsed": false,
     "input": [
      "print d1\n",
      "print d2\n",
      "print d25\n",
      "print lamda(d2,d25)*Pu[4]\n",
      "print lamda(d1,d25)*Pu[4]\n",
      "print h"
     ],
     "language": "python",
     "metadata": {},
     "outputs": [
      {
       "output_type": "stream",
       "stream": "stdout",
       "text": [
        "2.13e-10\n",
        "1.23e-10\n",
        "57.68\n",
        "9.88368779254e-34\n",
        "1.711565447e-33\n",
        "6.626e-34\n"
       ]
      }
     ],
     "prompt_number": 14
    },
    {
     "cell_type": "code",
     "collapsed": false,
     "input": [
      "print len(Pu)\n",
      "print len(D1m)"
     ],
     "language": "python",
     "metadata": {},
     "outputs": [
      {
       "output_type": "stream",
       "stream": "stdout",
       "text": [
        "5\n",
        "5\n"
       ]
      }
     ],
     "prompt_number": 15
    },
    {
     "cell_type": "heading",
     "level": 1,
     "metadata": {},
     "source": [
      "\u00a1constante de plank!"
     ]
    },
    {
     "cell_type": "code",
     "collapsed": false,
     "input": [
      "constante=zeros(10,dtype=float)\n",
      "lam=zeros(10,dtype=float)\n",
      "\n",
      "for i in range(len(Pu)): \n",
      "    \n",
      "     constante[i]=lamda(d1,D1m[i])*Pu[i]\n",
      "     lam[i]=lamda(d1,D1m[i])\n",
      "     constante[i+5]=lamda(d2,D2m[i])*Pu[i]\n",
      "     lam[i+5]=lamda(d2,D2m[i])\n",
      "        \n",
      "print \"constante de plank, valores hallados\\n\"\n",
      "print constante, \"\\n\" \n",
      "print \"longitud de onda\\n\"\n",
      "print lam"
     ],
     "language": "python",
     "metadata": {},
     "outputs": [
      {
       "output_type": "stream",
       "stream": "stdout",
       "text": [
        "constante de plank, valores hallados\n",
        "\n",
        "[  9.99846063e-34   1.02310426e-33   1.00058642e-33   1.00019510e-33\n",
        "   9.87829642e-34   9.94812031e-34   9.21836202e-34   9.50233746e-34\n",
        "   9.50328672e-34   9.88368779e-34] \n",
        "\n",
        "longitud de onda\n",
        "\n",
        "[  3.38280394e-11   3.20472070e-11   2.93176342e-11   2.76301205e-11\n",
        "   2.58881709e-11   3.36577218e-11   2.88751369e-11   2.78422782e-11\n",
        "   2.62525739e-11   2.59023001e-11]\n"
       ]
      }
     ],
     "prompt_number": 16
    },
    {
     "cell_type": "heading",
     "level": 2,
     "metadata": {},
     "source": [
      "\n",
      "GRaficas D1 y D2"
     ]
    },
    {
     "cell_type": "code",
     "collapsed": false,
     "input": [
      "raiz=zeros(5,dtype=float)\n",
      "for i in range(len(U)):\n",
      "    raiz[i]=1/pow(U[i],0.5)\n",
      "print raiz\n",
      "print D1m"
     ],
     "language": "python",
     "metadata": {},
     "outputs": [
      {
       "output_type": "stream",
       "stream": "stdout",
       "text": [
        "[ 0.01825742  0.01690309  0.01581139  0.01490712  0.01414214]\n",
        "[43.5, 41.21, 37.7, 35.53, 33.290000000000006]\n"
       ]
      }
     ],
     "prompt_number": 17
    },
    {
     "cell_type": "code",
     "collapsed": false,
     "input": [
      "scatter(D1m,raiz)\n",
      "title(\"D1(U)\",size=15)\n",
      "ylabel(\"distancia de los circulos\")\n",
      "xlabel(\"raiz de U\")\n",
      "plot(D1m,raiz,\"r\")"
     ],
     "language": "python",
     "metadata": {},
     "outputs": [
      {
       "output_type": "pyout",
       "prompt_number": 18,
       "text": [
        "[<matplotlib.lines.Line2D at 0x426b790>]"
       ]
      },
      {
       "output_type": "display_data",
       "png": "[encoded data removed]"
      }
     ],
     "prompt_number": 18
    },
    {
     "cell_type": "code",
     "collapsed": false,
     "input": [
      "from scipy import stats\n",
      "slope, intercept, r_value, p_value, std_err =stats.linregress(raiz,D1m)\n",
      "x=linspace(-2,50,10000)\n",
      "y=zeros(len(x),\"float\")"
     ],
     "language": "python",
     "metadata": {},
     "outputs": [],
     "prompt_number": 19
    },
    {
     "cell_type": "code",
     "collapsed": false,
     "input": [
      "for i in range(len(x)):\n",
      "    y[i]=x[i]*slope + intercept\n",
      "plot(x,y,label=\"slope=\"+str(slope)+\"\\nintercept=\"+str(intercept)) \n",
      "plot(raiz,D1m,\"ko\")\n",
      "xlim(raiz[-1]-0.01,raiz[0]+0.01)\n",
      "ylim(30,50)\n",
      "title(\"D1(U)\")\n",
      "xlabel(\"$ 1/U^{1/2}$\",size=15)\n",
      "ylabel(\"Radio\\nmenor\",size=15,rotation=\"horizontal\")\n",
      "legend()\n",
      "savefig(\"hallando_d1.png\")\n"
     ],
     "language": "python",
     "metadata": {},
     "outputs": [
      {
       "output_type": "display_data",
       "png": "[encoded data removed]"
      }
     ],
     "prompt_number": 20
    },
    {
     "cell_type": "code",
     "collapsed": false,
     "input": [
      "scatter(raiz,D2m)\n",
      "title(\"D2(U)\",size=15)\n",
      "xlabel(\"distancia de los circulos\")\n",
      "ylabel(\"raiz del Voltaje\")\n",
      "plot(raiz,D2m,\"r\")\n"
     ],
     "language": "python",
     "metadata": {},
     "outputs": [
      {
       "output_type": "pyout",
       "prompt_number": 21,
       "text": [
        "[<matplotlib.lines.Line2D at 0x49f6650>]"
       ]
      },
      {
       "output_type": "display_data",
       "png": "[encoded data removed]"
      }
     ],
     "prompt_number": 21
    },
    {
     "cell_type": "code",
     "collapsed": false,
     "input": [
      "slope, intercept, r_value, p_value, std_err =stats.linregress(raiz,D2m)\n",
      "x=linspace(-2,50,10000)\n",
      "y=zeros(len(x),\"float\")"
     ],
     "language": "python",
     "metadata": {},
     "outputs": [],
     "prompt_number": 22
    },
    {
     "cell_type": "code",
     "collapsed": false,
     "input": [
      "for i in range(len(x)):\n",
      "    y[i]=x[i]*slope + intercept\n",
      "plot(x,y,label=\"slope=\"+str(slope)+\"\\nintercept=\"+str(intercept)) \n",
      "plot(raiz,D2m,\"ro\")\n",
      "xlim(raiz[-1]-0.01,raiz[0]+0.01)\n",
      "ylim(55,80)\n",
      "title(\"D2(U)\")\n",
      "xlabel(\"$ 1/U^{1/2}$\",size=15)\n",
      "ylabel(\"Radio\\nmayor\",size=15,rotation=\"horizontal\")\n",
      "legend()\n",
      "savefig(\"hallando_d2.png\")\n",
      "\n"
     ],
     "language": "python",
     "metadata": {},
     "outputs": [
      {
       "output_type": "display_data",
       "png": "[encoded data removed]"
      }
     ],
     "prompt_number": 23
    },
    {
     "cell_type": "code",
     "collapsed": false,
     "input": [
      "def di(P,D):\n",
      "   return h*2*L*1000/(P*D)"
     ],
     "language": "python",
     "metadata": {},
     "outputs": [],
     "prompt_number": 24
    },
    {
     "cell_type": "code",
     "collapsed": false,
     "input": [
      "dis1=zeros(5,dtype=float)\n",
      "dis2=zeros(5,dtype=float)"
     ],
     "language": "python",
     "metadata": {},
     "outputs": [],
     "prompt_number": 25
    },
    {
     "cell_type": "code",
     "collapsed": false,
     "input": [
      "for i in range(len(dis1)):\n",
      "    dis1[i]=di(Pu[i],D1m[i])\n",
      "    dis2[i]=di(Pu[i],D2m[i])"
     ],
     "language": "python",
     "metadata": {},
     "outputs": [],
     "prompt_number": 26
    },
    {
     "cell_type": "heading",
     "level": 2,
     "metadata": {},
     "source": [
      "se halla d1 y d2 por las formulas obtenidas "
     ]
    },
    {
     "cell_type": "code",
     "collapsed": false,
     "input": [
      "print dis1\n",
      "print d1\n",
      "print dis2\n",
      "print d2\n"
     ],
     "language": "python",
     "metadata": {},
     "outputs": [
      {
       "output_type": "stream",
       "stream": "stdout",
       "text": [
        "[  1.41155529e-10   1.37946645e-10   1.41051085e-10   1.41106271e-10\n",
        "   1.42872611e-10]\n",
        "2.13e-10\n",
        "[  8.19248234e-11   8.84102835e-11   8.57681600e-11   8.57595929e-11\n",
        "   8.24588976e-11]\n",
        "1.23e-10\n"
       ]
      }
     ],
     "prompt_number": 27
    },
    {
     "cell_type": "heading",
     "level": 2,
     "metadata": {},
     "source": [
      "relacion broglie"
     ]
    },
    {
     "cell_type": "code",
     "collapsed": false,
     "input": [
      "brog=zeros(len(Pu),dtype=float)\n",
      "a=0\n",
      "for i in range(len(Pu)):\n",
      "    brog[i]=h/Pu[i]\n",
      "    a=a+pow(brog[i]-lam[i],2)/5\n",
      "    a=a+pow(brog[i]-lam[i+5],2)/5\n",
      "\n",
      "print brog,\"\\n\"\n",
      "print lam, \"\\n\"\n",
      "\n",
      "print pow(a,0.5)\n"
     ],
     "language": "python",
     "metadata": {},
     "outputs": [
      {
       "output_type": "stream",
       "stream": "stdout",
       "text": [
        "[  2.24179099e-11   2.07549516e-11   1.94144795e-11   1.83041468e-11\n",
        "   1.73648383e-11] \n",
        "\n",
        "[  3.38280394e-11   3.20472070e-11   2.93176342e-11   2.76301205e-11\n",
        "   2.58881709e-11   3.36577218e-11   2.88751369e-11   2.78422782e-11\n",
        "   2.62525739e-11   2.59023001e-11] \n",
        "\n",
        "1.35260036143e-11\n"
       ]
      }
     ],
     "prompt_number": 28
    },
    {
     "cell_type": "code",
     "collapsed": false,
     "input": [],
     "language": "python",
     "metadata": {},
     "outputs": [],
     "prompt_number": 28
    },
    {
     "cell_type": "code",
     "collapsed": false,
     "input": [],
     "language": "python",
     "metadata": {},
     "outputs": [],
     "prompt_number": 28
    },
    {
     "cell_type": "code",
     "collapsed": false,
     "input": [],
     "language": "python",
     "metadata": {},
     "outputs": [],
     "prompt_number": 28
    },
    {
     "cell_type": "code",
     "collapsed": false,
     "input": [],
     "language": "python",
     "metadata": {},
     "outputs": [],
     "prompt_number": 28
    },
    {
     "cell_type": "code",
     "collapsed": false,
     "input": [],
     "language": "python",
     "metadata": {},
     "outputs": []
    }
   ],
   "metadata": {}
  }
 ]
}