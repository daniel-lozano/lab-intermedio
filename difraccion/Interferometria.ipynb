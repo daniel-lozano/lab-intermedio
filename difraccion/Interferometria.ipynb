{
 "metadata": {
  "name": "Interferometria"
 },
 "nbformat": 3,
 "nbformat_minor": 0,
 "worksheets": [
  {
   "cells": [
    {
     "cell_type": "code",
     "collapsed": false,
     "input": [
      "%pylab inline\n",
      "import scipy"
     ],
     "language": "python",
     "metadata": {},
     "outputs": [
      {
       "output_type": "stream",
       "stream": "stdout",
       "text": [
        "\n",
        "Welcome to pylab, a matplotlib-based Python environment [backend: module://IPython.zmq.pylab.backend_inline].\n",
        "For more information, type 'help(pylab)'.\n"
       ]
      }
     ],
     "prompt_number": 76
    },
    {
     "cell_type": "heading",
     "level": 1,
     "metadata": {},
     "source": [
      "INTERFEROMETRIA"
     ]
    },
    {
     "cell_type": "code",
     "collapsed": false,
     "input": [
      "d=[12.0,15.0,15.0,17.0,15.0,16.0,12.0]\n",
      "for i in range(len(d)):\n",
      "    a=d[i]*pow(10,-6)\n",
      "    d[i]=a\n",
      "n=[21.0,20.0,20.0,20.0,20.0,20.0,20.0]\n",
      "len(d)"
     ],
     "language": "python",
     "metadata": {},
     "outputs": [
      {
       "output_type": "pyout",
       "prompt_number": 77,
       "text": [
        "7"
       ]
      }
     ],
     "prompt_number": 77
    },
    {
     "cell_type": "code",
     "collapsed": false,
     "input": [
      "lambd=zeros(len(d),dtype=float)\n",
      "for i in range(len(d)):\n",
      "    lambd[i]=2*d[i]/n[i]\n",
      "    print lambd[i]"
     ],
     "language": "python",
     "metadata": {},
     "outputs": [
      {
       "output_type": "stream",
       "stream": "stdout",
       "text": [
        "1.14285714286e-06\n",
        "1.5e-06\n",
        "1.5e-06\n",
        "1.7e-06\n",
        "1.5e-06\n",
        "1.6e-06\n",
        "1.2e-06\n"
       ]
      }
     ],
     "prompt_number": 78
    },
    {
     "cell_type": "code",
     "collapsed": false,
     "input": [
      "scatter(d,n)\n",
      "xlim(min(d)/2,max(d)*2)\n",
      "title(\"Datos medidos\",size=20)\n",
      "xlabel(\"longitud avanzada [metros]\",size=15)\n",
      "ylabel(\"numero de\\npatrones de\\ninterferencia\",rotation=\"horizontal\",size=15)\n"
     ],
     "language": "python",
     "metadata": {},
     "outputs": [
      {
       "output_type": "pyout",
       "prompt_number": 79,
       "text": [
        "<matplotlib.text.Text at 0x3b3c7d0>"
       ]
      },
      {
       "output_type": "display_data",
       "png": "[encoded data removed]"
      }
     ],
     "prompt_number": 79
    },
    {
     "cell_type": "code",
     "collapsed": false,
     "input": [
      "d_=0\n",
      "n_=0\n",
      "for i in range(len(d)):\n",
      "    d_=d_+d[i]\n",
      "    n_=n_+n[i]\n",
      "d_=d_/len(d)    \n",
      "n_=n_/len(d)"
     ],
     "language": "python",
     "metadata": {},
     "outputs": [],
     "prompt_number": 80
    },
    {
     "cell_type": "code",
     "collapsed": false,
     "input": [
      "print d_,n_"
     ],
     "language": "python",
     "metadata": {},
     "outputs": [
      {
       "output_type": "stream",
       "stream": "stdout",
       "text": [
        "1.45714285714e-05 20.1428571429\n"
       ]
      }
     ],
     "prompt_number": 81
    },
    {
     "cell_type": "code",
     "collapsed": false,
     "input": [
      "desv_d=0\n",
      "desv_d_=0\n",
      "desv_n=0\n",
      "desv_n_=0\n",
      "for i in range(len(d)):\n",
      "    desv_d=(desv_d+(d_-d[i])**2)/(len(d)-1)\n",
      "    desv_n=(desv_n+(n_-n[i])**2)/(len(d)-1)\n",
      "    \n",
      "desv_d=pow(desv_d,0.5)    \n",
      "desv_n=pow(desv_n,0.5)    \n",
      "desv_d_=desv_d/pow(len(d),0.5)\n",
      "desv_n_=desv_n/pow(len(d),0.5)\n"
     ],
     "language": "python",
     "metadata": {},
     "outputs": [],
     "prompt_number": 82
    },
    {
     "cell_type": "heading",
     "level": 2,
     "metadata": {},
     "source": [
      "errores en las medidas usando la desviacion estandar"
     ]
    },
    {
     "cell_type": "code",
     "collapsed": false,
     "input": [
      "print \"desviacion estandar de n\",desv_n,\"\\n\\n\",\"desviacion estandar de d\",desv_d,\"\\n\"\n",
      "print \"desviacion del promedio de d\" ,desv_d_,\"\\n\\n\",\"desviacion del promedio de n\",desv_n_,\"\\n\\n\"    "
     ],
     "language": "python",
     "metadata": {},
     "outputs": [
      {
       "output_type": "stream",
       "stream": "stdout",
       "text": [
        "desviacion estandar de n 0.0639075087615 \n",
        "\n",
        "desviacion estandar de d 1.07897292421e-06 \n",
        "\n",
        "desviacion del promedio de d 4.0781343269e-07 \n",
        "\n",
        "desviacion del promedio de n 0.0241547678704 \n",
        "\n",
        "\n"
       ]
      }
     ],
     "prompt_number": 83
    },
    {
     "cell_type": "code",
     "collapsed": false,
     "input": [
      "print lambd\n",
      "lambd=append(lambd,2*d_/n_)"
     ],
     "language": "python",
     "metadata": {},
     "outputs": [
      {
       "output_type": "stream",
       "stream": "stdout",
       "text": [
        "[  1.14285714e-06   1.50000000e-06   1.50000000e-06   1.70000000e-06\n",
        "   1.50000000e-06   1.60000000e-06   1.20000000e-06]\n"
       ]
      }
     ],
     "prompt_number": 84
    },
    {
     "cell_type": "code",
     "collapsed": false,
     "input": [
      "print lambd"
     ],
     "language": "python",
     "metadata": {},
     "outputs": [
      {
       "output_type": "stream",
       "stream": "stdout",
       "text": [
        "[  1.14285714e-06   1.50000000e-06   1.50000000e-06   1.70000000e-06\n",
        "   1.50000000e-06   1.60000000e-06   1.20000000e-06   1.44680851e-06]\n"
       ]
      }
     ],
     "prompt_number": 85
    },
    {
     "cell_type": "code",
     "collapsed": false,
     "input": [
      "print \"mejor valor de lambda= \",lambd[-1]"
     ],
     "language": "python",
     "metadata": {},
     "outputs": [
      {
       "output_type": "stream",
       "stream": "stdout",
       "text": [
        "mejor valor de lambda=  1.44680851064e-06\n"
       ]
      }
     ],
     "prompt_number": 86
    },
    {
     "cell_type": "heading",
     "level": 2,
     "metadata": {},
     "source": [
      "error en la medida metodo 1 falta el error en la medida"
     ]
    },
    {
     "cell_type": "code",
     "collapsed": false,
     "input": [
      "error1=(desv_d_/d_)*100\n",
      "error2=(desv_n_/n_)*100\n",
      "print error1, error2,\"en porcentaje\""
     ],
     "language": "python",
     "metadata": {},
     "outputs": [
      {
       "output_type": "stream",
       "stream": "stdout",
       "text": [
        "2.79871963611 0.1199172873 en porcentaje\n"
       ]
      }
     ],
     "prompt_number": 87
    },
    {
     "cell_type": "code",
     "collapsed": false,
     "input": [
      "error_random=pow((2*error1**2)+error2**2,0.5)"
     ],
     "language": "python",
     "metadata": {},
     "outputs": [],
     "prompt_number": 88
    },
    {
     "cell_type": "code",
     "collapsed": false,
     "input": [
      "print \"error_random= \",error_random,\"%\""
     ],
     "language": "python",
     "metadata": {},
     "outputs": [
      {
       "output_type": "stream",
       "stream": "stdout",
       "text": [
        "error_random=  3.95980344952 %\n"
       ]
      }
     ],
     "prompt_number": 89
    },
    {
     "cell_type": "code",
     "collapsed": false,
     "input": [
      "error3=(0.5*pow(10,-6)/d_)*100\n",
      "error4=(pow(n_,0.5)/n_)*100\n",
      "print error3, error4,\"en porcentaje\""
     ],
     "language": "python",
     "metadata": {},
     "outputs": [
      {
       "output_type": "stream",
       "stream": "stdout",
       "text": [
        "3.43137254902 22.2812454928 en porcentaje\n"
       ]
      }
     ],
     "prompt_number": 90
    },
    {
     "cell_type": "code",
     "collapsed": false,
     "input": [
      "error_sistema=pow((2*error3**2)+error4**2,0.5)\n",
      "print \"error_sistema= \",error_sistema,\"%\""
     ],
     "language": "python",
     "metadata": {},
     "outputs": [
      {
       "output_type": "stream",
       "stream": "stdout",
       "text": [
        "error_sistema=  22.8035641041 %\n"
       ]
      }
     ],
     "prompt_number": 91
    },
    {
     "cell_type": "code",
     "collapsed": false,
     "input": [
      "error_total=pow(error_random**2+error_sistema**2,0.5)\n",
      "print \"error total=\",error_total,\"%\"\n",
      "print \"longitud de onda=\",lambd[-1],\"+-\",lambd[-1]*error_total/100"
     ],
     "language": "python",
     "metadata": {},
     "outputs": [
      {
       "output_type": "stream",
       "stream": "stdout",
       "text": [
        "error total= 23.1448175454 %\n",
        "longitud de onda= 1.44680851064e-06 +- 3.34861190018e-07\n"
       ]
      }
     ],
     "prompt_number": 92
    },
    {
     "cell_type": "heading",
     "level": 1,
     "metadata": {},
     "source": [
      "REFRACCION DEL AIRE"
     ]
    },
    {
     "cell_type": "code",
     "collapsed": false,
     "input": [
      "t=0.570*pow(10,-2) #metros +- 0.0005cm\n",
      "angulo_i=[0,0]#+-0.5\n",
      "angulo_f=[13.0,13.5]#+-0.5\n",
      "N=[290.0,280.0]\n",
      "dist_aire=15.07*pow(10,-2) #metros +- 0.0005cm\n",
      "lo=633*pow(10,-9)"
     ],
     "language": "python",
     "metadata": {},
     "outputs": [],
     "prompt_number": 93
    },
    {
     "cell_type": "code",
     "collapsed": false,
     "input": [
      "pi"
     ],
     "language": "python",
     "metadata": {},
     "outputs": [
      {
       "output_type": "pyout",
       "prompt_number": 94,
       "text": [
        "3.141592653589793"
       ]
      }
     ],
     "prompt_number": 94
    },
    {
     "cell_type": "code",
     "collapsed": false,
     "input": [
      "for i in range(len(angulo_i)):\n",
      "    a=angulo_i[i]*pi/180\n",
      "    b=angulo_f[i]*pi/180\n",
      "    angulo_i[i]=a\n",
      "    angulo_f[i]=b"
     ],
     "language": "python",
     "metadata": {},
     "outputs": [],
     "prompt_number": 95
    },
    {
     "cell_type": "code",
     "collapsed": false,
     "input": [
      "indice=zeros(len(angulo_f),dtype=float)\n",
      "for i in range(len(angulo_i)):\n",
      "    indice[i]=(2*t-N[i]*lo)*(1-cos(angulo_f[i]))/(2*t*(1-cos(angulo_f[i]))-N[i]*lo)"
     ],
     "language": "python",
     "metadata": {},
     "outputs": [],
     "prompt_number": 101
    },
    {
     "cell_type": "code",
     "collapsed": false,
     "input": [
      "indice\n"
     ],
     "language": "python",
     "metadata": {},
     "outputs": [
      {
       "output_type": "pyout",
       "prompt_number": 102,
       "text": [
        "array([ 2.64683763,  2.25119215])"
       ]
      }
     ],
     "prompt_number": 102
    },
    {
     "cell_type": "code",
     "collapsed": false,
     "input": [
      "Error_indice=zeros(len(angulo_f),dtype=float)\n",
      "dn_dteta=0\n",
      "dn_dn=0\n",
      "dn_dt=0\n",
      "\n",
      "for i in range(len(angulo_f)):\n",
      "    a=2*t*(1-cos(angulo_f[i]))-N[i]*lo\n",
      "    \n",
      "    Dt=5*pow(10,-6)\n",
      "    DN=pow(N[i],0.5)\n",
      "    Dteta=0.5*pi/180\n",
      "    \n",
      "\n",
      "    dn_dn=( 1-cos(angulo_f[i]) ) * ( -lo * ( 2*t*( 1-cos(angulo_f[i]) ) -N[i]*lo ) + lo*(2*t-N[i]*lo) )/a**2                   \n",
      "    \n",
      "    dn_dt=(1-cos( angulo_f[i] ) ) *(2*(2*t*( 1-cos(angulo_f[i]) )-N[i]*lo)-2*( 1-cos(angulo_f[i]) )*(2*t-N[i]*lo) )/a**2\n",
      "    \n",
      "    dn_dteta=(2*t-N[i]*lo)*( sin(angulo_f[i])*(2*t*( 1-cos(angulo_f[i]) )-N[i]*lo )-2*t*sin(angulo_f[i])*(1-cos(angulo_f[i]))/a**2             )\n",
      "    \n",
      "    \n",
      "    Error_indice[i]=pow( (dn_dteta*Dteta)**2 + (dn_dn*DN)**2 +(dn_dt*Dt)**2  ,0.5)"
     ],
     "language": "python",
     "metadata": {},
     "outputs": [],
     "prompt_number": 115
    },
    {
     "cell_type": "code",
     "collapsed": false,
     "input": [
      "Error_indice"
     ],
     "language": "python",
     "metadata": {},
     "outputs": [
      {
       "output_type": "pyout",
       "prompt_number": 116,
       "text": [
        "array([ 0.60425595,  0.41630378])"
       ]
      }
     ],
     "prompt_number": 116
    },
    {
     "cell_type": "code",
     "collapsed": false,
     "input": [],
     "language": "python",
     "metadata": {},
     "outputs": [],
     "prompt_number": 99
    },
    {
     "cell_type": "code",
     "collapsed": false,
     "input": [],
     "language": "python",
     "metadata": {},
     "outputs": []
    }
   ],
   "metadata": {}
  }
 ]
}